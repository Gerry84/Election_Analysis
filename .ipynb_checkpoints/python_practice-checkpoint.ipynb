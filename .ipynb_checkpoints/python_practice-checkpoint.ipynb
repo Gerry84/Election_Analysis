{
 "cells": [
  {
   "cell_type": "code",
   "execution_count": 3,
   "metadata": {},
   "outputs": [
    {
     "name": "stdout",
     "output_type": "stream",
     "text": [
      "Denver\n"
     ]
    }
   ],
   "source": [
    "#The double equals sign, ==, is a comparison operator, or Boolean operator, which means \"equal to.\"\n",
    "counties = [\"Arapahoe\",\"Denver\",\"Jefferson\"]\n",
    "if counties[1] == 'Denver':\n",
    "    print(counties[1])"
   ]
  },
  {
   "cell_type": "code",
   "execution_count": 4,
   "metadata": {},
   "outputs": [],
   "source": [
    "counties = [\"Arapahoe\",\"Arapahoe\",\"Jefferson\"]\n",
    "if counties[1] == 'Denver':\n",
    "    print(counties[1])"
   ]
  },
  {
   "cell_type": "code",
   "execution_count": 5,
   "metadata": {},
   "outputs": [
    {
     "name": "stdout",
     "output_type": "stream",
     "text": [
      "What is the temperature outside? 80\n",
      "Open the windows.\n"
     ]
    }
   ],
   "source": [
    "#input statement with integer function \n",
    "temperature = int(input(\"What is the temperature outside? \"))\n",
    "\n",
    "if temperature > 80:\n",
    "    print(\"Turn on the AC.\")\n",
    "else:\n",
    "    print(\"Open the windows.\")"
   ]
  },
  {
   "cell_type": "code",
   "execution_count": 6,
   "metadata": {},
   "outputs": [
    {
     "name": "stdout",
     "output_type": "stream",
     "text": [
      "What is your test score? 50\n",
      "Your grade is an F.\n"
     ]
    }
   ],
   "source": [
    "#What is the score?\n",
    "score = int(input(\"What is your test score? \"))\n",
    "\n",
    "# Determine the grade.\n",
    "if score >= 90:\n",
    "    print('Your grade is an A.')\n",
    "else:\n",
    "    if score >= 80:\n",
    "        print('Your grade is a B.')\n",
    "    else:\n",
    "        if score >= 70:\n",
    "            print('Your grade is a C.')\n",
    "        else:\n",
    "            if score >= 60:\n",
    "                print('Your grade is a D.')\n",
    "            else:\n",
    "                print('Your grade is an F.')"
   ]
  },
  {
   "cell_type": "code",
   "execution_count": 7,
   "metadata": {},
   "outputs": [
    {
     "name": "stdout",
     "output_type": "stream",
     "text": [
      "Arapahoe\n",
      "Arapahoe\n",
      "Jefferson\n"
     ]
    }
   ],
   "source": [
    "#for loops with range and len function\n",
    "for i in range(len(counties)):\n",
    "    print(counties[i])"
   ]
  },
  {
   "cell_type": "code",
   "execution_count": 8,
   "metadata": {},
   "outputs": [
    {
     "name": "stdout",
     "output_type": "stream",
     "text": [
      "The time right now is  2020-09-20 14:41:49.665925\n"
     ]
    }
   ],
   "source": [
    "# Import the datetime class from the datetime module.\n",
    "import datetime\n",
    "# Use the now() attribute on the datetime class to get the present time.\n",
    "now = datetime.datetime.now()\n",
    "# Print the present time.\n",
    "print(\"The time right now is \", now)"
   ]
  },
  {
   "cell_type": "code",
   "execution_count": 9,
   "metadata": {},
   "outputs": [
    {
     "data": {
      "text/plain": [
       "['Dialect',\n",
       " 'DictReader',\n",
       " 'DictWriter',\n",
       " 'Error',\n",
       " 'QUOTE_ALL',\n",
       " 'QUOTE_MINIMAL',\n",
       " 'QUOTE_NONE',\n",
       " 'QUOTE_NONNUMERIC',\n",
       " 'Sniffer',\n",
       " 'StringIO',\n",
       " '_Dialect',\n",
       " '__all__',\n",
       " '__builtins__',\n",
       " '__cached__',\n",
       " '__doc__',\n",
       " '__file__',\n",
       " '__loader__',\n",
       " '__name__',\n",
       " '__package__',\n",
       " '__spec__',\n",
       " '__version__',\n",
       " 'excel',\n",
       " 'excel_tab',\n",
       " 'field_size_limit',\n",
       " 'get_dialect',\n",
       " 'list_dialects',\n",
       " 're',\n",
       " 'reader',\n",
       " 'register_dialect',\n",
       " 'unix_dialect',\n",
       " 'unregister_dialect',\n",
       " 'writer']"
      ]
     },
     "execution_count": 9,
     "metadata": {},
     "output_type": "execute_result"
    }
   ],
   "source": [
    "import csv\n",
    "dir(csv)"
   ]
  },
  {
   "cell_type": "code",
   "execution_count": null,
   "metadata": {},
   "outputs": [],
   "source": []
  }
 ],
 "metadata": {
  "kernelspec": {
   "display_name": "Python 3",
   "language": "python",
   "name": "python3"
  },
  "language_info": {
   "codemirror_mode": {
    "name": "ipython",
    "version": 3
   },
   "file_extension": ".py",
   "mimetype": "text/x-python",
   "name": "python",
   "nbconvert_exporter": "python",
   "pygments_lexer": "ipython3",
   "version": "3.8.3"
  }
 },
 "nbformat": 4,
 "nbformat_minor": 4
}
