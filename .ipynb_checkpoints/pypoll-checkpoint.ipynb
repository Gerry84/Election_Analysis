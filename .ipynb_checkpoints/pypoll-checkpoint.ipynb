{
 "cells": [
  {
   "cell_type": "code",
   "execution_count": 67,
   "metadata": {},
   "outputs": [],
   "source": [
    "import csv\n",
    "import os"
   ]
  },
  {
   "cell_type": "code",
   "execution_count": 68,
   "metadata": {},
   "outputs": [],
   "source": [
    "file_to_load = os.path.join('data','election_results.csv')\n",
    "file_to_save = os.path.join('analysis','election_analysis.txt')"
   ]
  },
  {
   "cell_type": "code",
   "execution_count": 69,
   "metadata": {},
   "outputs": [],
   "source": [
    "total_votes = 0\n",
    "candidate_options = []\n",
    "candidate_votes = {}\n",
    "winning_candidate =\"\"\n",
    "winning_count = 0\n",
    "winning_percentage = 0"
   ]
  },
  {
   "cell_type": "code",
   "execution_count": 70,
   "metadata": {},
   "outputs": [],
   "source": [
    "with open(file_to_load, mode='r') as election_data:\n",
    "    file_reader = csv.reader(election_data)\n",
    "    headers = next(file_reader)\n",
    "#    print(headers)\n",
    "    for row in file_reader:\n",
    "        \n",
    "        total_votes += 1\n",
    "        \n",
    "        candidate_name = row[2]\n",
    "        \n",
    "        if candidate_name not in candidate_options:\n",
    "            candidate_options.append(candidate_name)\n",
    "            candidate_votes[candidate_name] = 0\n",
    "            \n",
    "        candidate_votes[candidate_name] += 1\n",
    "    \n",
    "    with open(file_to_save, mode ='w') as txt_file:\n",
    "        \n",
    "        election_results = (\n",
    "                    f\"\\nElection Results\\n\"\n",
    "                    f\"-------------------------\\n\"\n",
    "                    f\"Total Votes: {total_votes:,}\\n\"\n",
    "                    f\"-------------------------\\n\")\n",
    "        \n",
    "        txt_file.write(election_results)\n",
    "    \n",
    "        for candidate_name in candidate_votes:\n",
    "            votes = candidate_votes[candidate_name]\n",
    "            vote_percentage = float(votes) / float(total_votes) *100\n",
    "            \n",
    "            candidate_results = f\"{candidate_name}: received {vote_percentage:.2f}% of the vote\\n\"\n",
    "            txt_file.write(candidate_results)\n",
    "            \n",
    "            if (votes > winning_count) and (vote_percentage > winning_percentage):\n",
    "                winning_candidate = candidate_name\n",
    "                winning_count = votes\n",
    "                winning_percentage = vote_percentage\n",
    "            \n",
    "#            print(f\"{candidate_name}: {vote_percentage:.1f}% ({votes:,})\\n\")\n",
    "    \n",
    "    \n",
    "    \n",
    "    \n",
    "    \n",
    "        winning_candidate_summary = (\n",
    "                            f\"-------------------------\\n\"\n",
    "                            f\"Winner: {winning_candidate}\\n\"\n",
    "                            f\"Winning Vote Count: {winning_count:,}\\n\"\n",
    "                            f\"Winning Percentage: {winning_percentage:.1f}%\\n\"\n",
    "                            f\"-------------------------\\n\")\n",
    "\n",
    "        txt_file.write(winning_candidate_summary)\n",
    "    "
   ]
  },
  {
   "cell_type": "code",
   "execution_count": 71,
   "metadata": {},
   "outputs": [],
   "source": [
    "#print(total_vote)\n",
    "#print(candidate_options)\n",
    "#print(candidate_votes)\n",
    "#print(f\"{winning_candidate}: {winning_percentage:.1f}% ({winning_count:,})\\n\")\n",
    "#print(winning_candidate_summary)"
   ]
  }
 ],
 "metadata": {
  "kernelspec": {
   "display_name": "Python 3",
   "language": "python",
   "name": "python3"
  },
  "language_info": {
   "codemirror_mode": {
    "name": "ipython",
    "version": 3
   },
   "file_extension": ".py",
   "mimetype": "text/x-python",
   "name": "python",
   "nbconvert_exporter": "python",
   "pygments_lexer": "ipython3",
   "version": "3.8.3"
  }
 },
 "nbformat": 4,
 "nbformat_minor": 4
}
